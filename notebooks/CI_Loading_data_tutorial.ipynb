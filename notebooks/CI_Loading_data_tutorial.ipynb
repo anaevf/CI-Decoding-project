{
 "cells": [
  {
   "cell_type": "markdown",
   "metadata": {},
   "source": [
    "# Importing epoch data from Fieldtrip to MNE\n",
    "\n",
    "Importing data from fieldtrip to mne is not a trivial question. MNE has many powerful visualization, decoding and source localization tools that require your data to be in a specific data format (class). \n",
    "\n",
    "The major classes accepted in the MNE toolbox are listed in their website. [There is a good page on the Fieldtrip website explaining how to export data from Fieldtrip to MNE](http://www.fieldtriptoolbox.org/development/integrate_with_mne), however this is still in development: you can easily export data from fieldtrip to MNE if they are on the format of RAW or EVOKED, but not EPOCHS. Unfortunately for us, the epoched data type is specially interesting as it is the format the data is after being cleaned by fieldtrip.\n",
    "\n",
    "For a long time in my lab rotation, it was really hard for me to import data from fieldtrip to Python in a way I could keep all the important features I wanted (the data, the time window, the fs, etc) and to be adapted to the MNE-workflow. After trying many codes that did not succeed, I finally found someone who had the same problem as mine. I could adapt their codes with what I had tried so far. This is what this tutorial is about: the function load_cor. Importantly, the code used in this tutorial is supposed to run on Windows. A small adaptation of function load_cor was created for mac users.\n",
    "\n",
    "---"
   ]
  },
  {
   "cell_type": "markdown",
   "metadata": {},
   "source": [
    "Let's start having a look on the function itself:"
   ]
  },
  {
   "cell_type": "code",
   "execution_count": 7,
   "metadata": {
    "collapsed": true
   },
   "outputs": [],
   "source": [
    "## This code is meant to work on WINDOWS. Giulia has a version that works on MAC. \n",
    "\n",
    "def load_cor(xDir, var_name='struct_cor'): # the inputs of the function  are the directory of your variable\n",
    "                                           # and its name.\n",
    "        \n",
    "    # first we import some of the tools that will be used in this function.\n",
    "    # Even if you import some of these tools in your main code, it is important\n",
    "    # to keep these importations in the definition of the function so you don't\n",
    "    # get an error message in case you forget to import a tool, for instance.\n",
    "    import mne\n",
    "    from mne import create_info\n",
    "    from mne.epochs import EpochsArray\n",
    "    import scipy.io as sio\n",
    "    import numpy as np\n",
    "    \n",
    "    # load Matlab/Fieldtrip data\n",
    "    mat = sio.loadmat(xDir, squeeze_me=True, struct_as_record=False) # here we use the loadmat to load the data\n",
    "    ft_data = mat[var_name] # loadmat gives us a variable containing many lists, that include things we are not\n",
    "                            # interested as the header of the file. We here retrieve only the part of the variable\n",
    "                            # we are interested.\n",
    "    # ft_data is now a python object that is inspired in the matlab structure you wanted to load. For instance, if in\n",
    "    # matlab your structure had a field named \"example\", in python you will retrieve this by typing ft_data.example. \n",
    "    # Remember that, as objects, ft_data is not shown in the variable explorer of spyder.\n",
    "    \n",
    "    # Now we define the events. In this function, the events will be the different directions of the FIRST sound. \n",
    "    # This is retrieved in the trialinfo column 1. \n",
    "    events = ft_data.trialinfo[:, 1]\n",
    "\n",
    "\n",
    "    # Now we can convert to mne.\n",
    "    \n",
    "    n_trial, n_chans, n_time = ft_data.trial.shape # we get the shape of the field \"trial\" of the structure ft_data\n",
    "    \n",
    "    # The next steps could have been done in one line by saying data = ft_data.trial\n",
    "    # I used so many lines because I think I was still learning python and I wasn't always efficient.\n",
    "    data = np.zeros((n_trial, n_chans, n_time))  # we create a empty variable\n",
    "    data = ft_data.trial # and fill it with data.\n",
    "    \n",
    "    \n",
    "    # we define the sampling frequency\n",
    "    sfreq = 200\n",
    "    # we get the time for the data\n",
    "    time = ft_data.time\n",
    "\n",
    "    # coi stands for channels of interest. In case we wanted to select specific channels (for instance, if we had\n",
    "    # recorded EEG and MEG simultaneously), we could change coi to select which channels we are interested\n",
    "    # by putting the index of channels we want. We are getting all the channels so this is not really \n",
    "    # important for us. But I left it here in case one day you decide to look at specific channels, you can easily\n",
    "    # change it here\n",
    "    coi = range(n_chans)\n",
    "    data = data[:, coi, :]\n",
    "    \n",
    "    # Now we encode the channels names. This is important when defining the montage, for instance. In MAC, this\n",
    "    # steps yields something like \"b'E01\" instead of \"E01\". I couldn't understand why (I've never used mac in my life)\n",
    "    # but my guess is that it has to do with the ascii encoding. Anytheless this is easily solvable by removing the \"b'\"\n",
    "    # from all channels (which we don't do in this example).\n",
    "    \n",
    "    chan_names = [l.encode('ascii') for l in ft_data.label[coi]]\n",
    "    chan_types = ft_data.label[coi]\n",
    "    chan_types[:] = 'eeg'\n",
    "    # we then create the info of our MNE epoch classe.\n",
    "    info = create_info(chan_names, sfreq, chan_types)\n",
    "    # We also arrange the events. The events variable has to be matrix of 3 cols. The first column is the\n",
    "    # trial ID, the second col is the previous event in that trial, and the third columns is the actual event that is\n",
    "    # happening. This means that we can have more than one event per trial. I wanted to keep it simple, so I defined\n",
    "    # my events to be only the position of the first sound, but this could be definitely be improved to\n",
    "    # add more labels if you want. To understand how the events in MNE work better, I recommend the MNE website\n",
    "    events = np.array([np.arange(n_trial), np.zeros(n_trial), event, ], int).T\n",
    "    \n",
    "    # We then finally use the MNE function EpochsArray to create and EPOCH class.\n",
    "    epochs = EpochsArray(data, info, events=events,\n",
    "                         tmin=np.min(time), verbose=False)\n",
    "    \n",
    "    # we also put a montage of our EEG system so we can plot the topographies.\n",
    "    montage = mne.channels.read_montage('GSN-HydroCel-257')\n",
    "    epochs.set_montage(montage)\n",
    "    return epochs, event # those are the outputs of the functions are the class of epochs and the event matrix.\n",
    "    # REMEBER: epochs won't show in the variable explorer of the spyder."
   ]
  },
  {
   "cell_type": "markdown",
   "metadata": {},
   "source": [
    "Now that we understand the function inside, let's try an example and see if it works:"
   ]
  },
  {
   "cell_type": "code",
   "execution_count": 8,
   "metadata": {
    "collapsed": false
   },
   "outputs": [],
   "source": [
    "xDir = 'C:\\\\Users\\\\Ana\\\\Desktop\\\\CI\\\\Python\\\\Subjects\\\\AB171109_20171109_111227v03HT\\\\struct_cor.mat' ## Example data\n",
    "    \n",
    "epochs, event = load_cor(xDir, var_name='struct_cor') # using the function"
   ]
  },
  {
   "cell_type": "markdown",
   "metadata": {},
   "source": [
    "Now let's have a look how the class epochs looks like: type epochs and observe the output:"
   ]
  },
  {
   "cell_type": "code",
   "execution_count": 9,
   "metadata": {
    "collapsed": false
   },
   "outputs": [
    {
     "data": {
      "text/plain": [
       "<EpochsArray  |  n_events : 750 (all good), tmin : -0.3 (s), tmax : 2.75 (s), baseline : None, ~759.2 MB, data loaded,\n",
       " '2': 150, '3': 150, '4': 150, '5': 150, '6': 150>"
      ]
     },
     "execution_count": 9,
     "metadata": {},
     "output_type": "execute_result"
    }
   ],
   "source": [
    "epochs"
   ]
  },
  {
   "cell_type": "markdown",
   "metadata": {},
   "source": [
    "So epochs has n_events that should be equal to the number of trials for that subject. The events in the second line show how many trials were part of each direction. So direction '2' has x trials, direction 3 has y trials and so on. \n",
    "\n",
    "You can do many things with an epoch class. If you want to retrieve the EEG data and have a look at the info, for instance, you can use:"
   ]
  },
  {
   "cell_type": "code",
   "execution_count": 12,
   "metadata": {
    "collapsed": false
   },
   "outputs": [
    {
     "name": "stdout",
     "output_type": "stream",
     "text": [
      "<Info | 17 non-empty fields\n",
      "    bads : list | 0 items\n",
      "    ch_names : list | E1, E2, E3, E4, E11, E12, E13, E14, E15, ...\n",
      "    chs : list | 217 items (EEG: 217)\n",
      "    comps : list | 0 items\n",
      "    custom_ref_applied : bool | False\n",
      "    dev_head_t : Transform | 3 items\n",
      "    dig : list | 220 items\n",
      "    events : list | 0 items\n",
      "    highpass : float | 0.0 Hz\n",
      "    hpi_meas : list | 0 items\n",
      "    hpi_results : list | 0 items\n",
      "    lowpass : float | 100.0 Hz\n",
      "    meas_date : ndarray | 1970-01-01 00:00:00 GMT\n",
      "    nchan : int | 217\n",
      "    proc_history : list | 0 items\n",
      "    projs : list | 0 items\n",
      "    sfreq : float | 200.0 Hz\n",
      "    acq_pars : NoneType\n",
      "    acq_stim : NoneType\n",
      "    buffer_size_sec : NoneType\n",
      "    ctf_head_t : NoneType\n",
      "    description : NoneType\n",
      "    dev_ctf_t : NoneType\n",
      "    experimenter : NoneType\n",
      "    file_id : NoneType\n",
      "    hpi_subsystem : NoneType\n",
      "    kit_system_id : NoneType\n",
      "    line_freq : NoneType\n",
      "    meas_id : NoneType\n",
      "    proj_id : NoneType\n",
      "    proj_name : NoneType\n",
      "    subject_info : NoneType\n",
      "    xplotter_layout : NoneType\n",
      ">\n"
     ]
    }
   ],
   "source": [
    "data = epochs.get_data()\n",
    "info = epochs.info\n",
    "\n",
    "print(info)"
   ]
  },
  {
   "cell_type": "markdown",
   "metadata": {},
   "source": [
    "If you would like, on other hand, to plot the data to visualize it better, you can try: "
   ]
  },
  {
   "cell_type": "code",
   "execution_count": null,
   "metadata": {
    "collapsed": false
   },
   "outputs": [
    {
     "name": "stdout",
     "output_type": "stream",
     "text": [
      "750 matching events found\n",
      "0 projection items activated\n",
      "0 bad epochs dropped\n"
     ]
    }
   ],
   "source": [
    "epochs.plot_image()"
   ]
  },
  {
   "cell_type": "markdown",
   "metadata": {},
   "source": [
    "A comprehensive list of what can be done witht the epochs class can be found [here](https://martinos.org/mne/stable/generated/mne.Epochs.html)"
   ]
  },
  {
   "cell_type": "code",
   "execution_count": null,
   "metadata": {
    "collapsed": true
   },
   "outputs": [],
   "source": [
    "epochs.plot()"
   ]
  }
 ],
 "metadata": {
  "anaconda-cloud": {},
  "kernelspec": {
   "display_name": "Python [Root]",
   "language": "python",
   "name": "Python [Root]"
  },
  "language_info": {
   "codemirror_mode": {
    "name": "ipython",
    "version": 2
   },
   "file_extension": ".py",
   "mimetype": "text/x-python",
   "name": "python",
   "nbconvert_exporter": "python",
   "pygments_lexer": "ipython2",
   "version": "2.7.12"
  }
 },
 "nbformat": 4,
 "nbformat_minor": 2
}
